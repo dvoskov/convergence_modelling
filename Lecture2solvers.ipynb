{
 "cells": [
  {
   "cell_type": "code",
   "execution_count": 36,
   "metadata": {},
   "outputs": [
    {
     "name": "stdout",
     "output_type": "stream",
     "text": [
      "0.6451612903225806 1.6701680672268906\n"
     ]
    }
   ],
   "source": [
    "v0 = 100e6\n",
    "dv = 10e6\n",
    "Tc = 273 - 82.6\n",
    "pc = 46.5\n",
    "T0 = 288 + 30\n",
    "p0 = 30\n",
    "pr = p0 / pc\n",
    "Tr = T0 / Tc\n",
    "print(pr,Tr)\n",
    "z0 = 0.96"
   ]
  },
  {
   "cell_type": "code",
   "execution_count": 37,
   "metadata": {},
   "outputs": [
    {
     "name": "stdout",
     "output_type": "stream",
     "text": [
      "33.0\n"
     ]
    }
   ],
   "source": [
    "z = z0\n",
    "p = z*(p0/z0*(1+dv/v0))\n",
    "print(p)"
   ]
  },
  {
   "cell_type": "code",
   "execution_count": 40,
   "metadata": {},
   "outputs": [
    {
     "name": "stdout",
     "output_type": "stream",
     "text": [
      "6.134969325153374 1.2385321100917432\n"
     ]
    }
   ],
   "source": [
    "v0 = 100e6\n",
    "dv = 50e6\n",
    "Tc = 273 + 32.2\n",
    "pc = 48.9\n",
    "T0 = 288 + 90\n",
    "p0 = 300\n",
    "pr = p0 / pc\n",
    "Tr = T0 / Tc\n",
    "print(pr,Tr)\n",
    "z0 = 0.8\n",
    "E0 = 288 * p0 / (z0*T0)"
   ]
  },
  {
   "cell_type": "code",
   "execution_count": 62,
   "metadata": {},
   "outputs": [
    {
     "name": "stdout",
     "output_type": "stream",
     "text": [
      "Pressure without aquifer =  150.0\n",
      "140 -10.240384615384613\n",
      "141 -9.238879818912068\n",
      "142 -8.237375052583104\n",
      "143 -7.235870316396756\n",
      "144 -6.2343656103521425\n",
      "145 -5.232860934448411\n",
      "146 -4.231356288684594\n",
      "147 -3.229851673059784\n",
      "148 -2.228347087573127\n",
      "149 -1.2268425322236851\n",
      "150 -0.22533800701052087\n",
      "151 0.7761664880672186\n",
      "152 1.7776709530104426\n",
      "153 2.7791753878200893\n",
      "154 3.7806797924970397\n",
      "155 4.782184167042203\n",
      "156 5.783688511456489\n",
      "157 6.785192825740779\n",
      "158 7.786697109896039\n",
      "159 8.788201363923122\n"
     ]
    }
   ],
   "source": [
    "z = z0\n",
    "p = z*(p0/z0*(1-dv/v0))\n",
    "print(\"Pressure without aquifer = \",p)\n",
    "cw = 1e-5\n",
    "W = v0 / E0 # volume of aquifer is 10 times larger than reservoir\n",
    "for p in range(140, 160):\n",
    "    f = p - z*(p0/z0*(1-dv/v0)/(1-E0/v0*cw*W*(p0-p)))\n",
    "    print(p,f)"
   ]
  },
  {
   "cell_type": "code",
   "execution_count": 61,
   "metadata": {},
   "outputs": [
    {
     "name": "stdout",
     "output_type": "stream",
     "text": [
      "1999.9999999999998 0.21797643254709193\n"
     ]
    }
   ],
   "source": [
    "import numpy as np\n",
    "\n",
    "day2sec = 86400\n",
    "\n",
    "t = 100 * day2sec # 100 years to seconds\n",
    "T0 = 75 # assuming natural gradient @ 2500 m\n",
    "T1 = 25\n",
    "Cw = 4 # see lecture\n",
    "rho_w = 1000 \n",
    "Q = 100 / day2sec # m3/day to \n",
    "E = Cw*(T0-T1)*rho_w*Q\n",
    "\n",
    "k = 1e-12 # 1 Darcy in m-2 \n",
    "H = 100 \n",
    "mu = 9e-4 # Pa/s\n",
    "rw = 0.15 # \n",
    "L = 800 # distance in m\n",
    "R = L / 2\n",
    "WI = 2 * 3.1415 * k * H / (mu * np.log(R/rw))\n",
    "dp = Q / WI / 1000 # in KPa\n",
    "\n",
    "Ep = Q * dp / 0.6 # KJ/sec, see https://neutrium.net/equipment/pump-power-calculation/\n",
    "\n",
    "print(E*t*1e-6, Ep*t*1e-6) # print in GJ\n"
   ]
  },
  {
   "cell_type": "code",
   "execution_count": null,
   "metadata": {},
   "outputs": [],
   "source": []
  }
 ],
 "metadata": {
  "kernelspec": {
   "display_name": "Python 3",
   "language": "python",
   "name": "python3"
  },
  "language_info": {
   "codemirror_mode": {
    "name": "ipython",
    "version": 3
   },
   "file_extension": ".py",
   "mimetype": "text/x-python",
   "name": "python",
   "nbconvert_exporter": "python",
   "pygments_lexer": "ipython3",
   "version": "3.6.5"
  }
 },
 "nbformat": 4,
 "nbformat_minor": 4
}
