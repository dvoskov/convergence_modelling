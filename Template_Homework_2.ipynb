{
 "cells": [
  {
   "cell_type": "markdown",
   "metadata": {},
   "source": [
    "# Homework Template Lecture 2\n",
    "\n",
    "## Student Name:\n",
    "## Student Number:"
   ]
  },
  {
   "cell_type": "markdown",
   "metadata": {},
   "source": [
    "## Answer to in-class exercise: Gas diffusion in layered reservoir (part 1)"
   ]
  },
  {
   "cell_type": "markdown",
   "metadata": {},
   "source": [
    "## Answer to in-class exercise: Gas diffusion in layered reservoir (part 2)"
   ]
  },
  {
   "cell_type": "code",
   "execution_count": null,
   "metadata": {},
   "outputs": [],
   "source": [
    "import numpy as np\n",
    "\n",
    "\n",
    "# Create matrix of coefficients:\n",
    "A = np.zeros((3, 3))\n",
    "A[0, :] = [0.8, 0.1, 0.04]\n",
    "A[1, :] = [0.15, 0.7, 0.13]\n",
    "A[2, :] = [0.05, 0.2, 0.83]\n",
    "\n",
    "# Create initial gas distribution:\n",
    "gas_distr = np.array([1, 0, 0])\n",
    "\n",
    "# Time step size:\n",
    "dt = 1  # [years]\n",
    "    \n",
    "# Calculate distribution at several timesteps:\n",
    "time_after_injection = [6, 15, 50]  # [years]\n",
    "nr_time_steps = [int(ii / dt) for ii in time_after_injection]  # matrix powers (and time-steps) need to be integers :)! \n",
    "\n",
    "for n in nr_time_steps:\n",
    "# your code here .....\n",
    "\n",
    "    print('Gas distribution after {:d} years is :\\t'.format(n * dt), new_distr)\n"
   ]
  },
  {
   "cell_type": "code",
   "execution_count": null,
   "metadata": {},
   "outputs": [],
   "source": [
    "# Last example where we know the condition after X years and \n",
    "# can calculate back the concentration (solving the linear system for init_gas_distr)\n",
    "\n",
    "# Create matrix of coefficients:\n",
    "A = np.zeros((3, 3))\n",
    "A[0, :] = [0.8, 0.1, 0.04]\n",
    "A[1, :] = [0.15, 0.7, 0.13]\n",
    "A[2, :] = [0.05, 0.2, 0.83]\n",
    "\n",
    "# Create initial gas distribution\n",
    "gas_distr = np.array([1, 0, 0])\n",
    "\n",
    "# Calculate distribution at new time-step:\n",
    "time_step = 6\n",
    "new_distr = np.dot(np.linalg.???(A, time_step), gas_distr)\n",
    "print('Gas distribution after {:d} years is :\\t'.format(time_step), new_distr)\n",
    "\n",
    "# Use new distribution to calculate back the initial distribution (which method???):\n",
    "init_distr = np.linalg.???(matrix_prod_pow(A, time_step), new_distr)\n",
    "init_distr[init_distr<1e-14] = 0\n",
    "\n",
    "print('Initial gas distribution:\\t\\t', init_distr)"
   ]
  },
  {
   "cell_type": "markdown",
   "metadata": {},
   "source": [
    "## Answer to in-class exercise: Gas diffusion in layered reservoir (part 3)"
   ]
  },
  {
   "cell_type": "code",
   "execution_count": null,
   "metadata": {},
   "outputs": [],
   "source": [
    "import matplotlib.pyplot as plt\n",
    "\n",
    "\n",
    "# Plot gas distribution in each layer over 25 years time-period:\n",
    "num_steps = 25\n",
    "nr_time_steps = np.linspace(1, num_steps, num_steps, dtype=int)\n",
    "num_layers = 3\n",
    "gas_distr_mat = np.zeros((num_steps, num_layers))\n",
    "\n",
    "# your code here .....\n",
    "\n",
    "font = {'family': 'serif',\n",
    "        'color':  'darkred',\n",
    "        'weight': 'normal',\n",
    "        'size': 16,\n",
    "        }\n",
    "\n",
    "# Plot solution:\n",
    "plt.figure(num=None, figsize=(15, 5), dpi=80, facecolor='w', edgecolor='k')\n",
    "\n",
    "plt.plot(nr_time_steps, gas_distr_mat[:, 0], 'r', linewidth=2)\n",
    "plt.plot(nr_time_steps, gas_distr_mat[:, 1], 'blue', linewidth=2)\n",
    "plt.plot(nr_time_steps, gas_distr_mat[:, 2], 'black', linewidth=2)\n",
    "plt.title('Gas distribution over time', fontdict=font)\n",
    "plt.xlabel('time [years]', fontdict=font)\n",
    "plt.ylabel('gas concentration [-]', fontdict=font)\n",
    "plt.gca().legend(('layer 1','layer 2', 'layer 3'))\n",
    "plt.show()"
   ]
  },
  {
   "cell_type": "markdown",
   "metadata": {},
   "source": [
    "## Set of Python exercises:"
   ]
  },
  {
   "cell_type": "markdown",
   "metadata": {},
   "source": [
    "### Question 1: Use a lambda function (use the help('lambda') command if you don't know what a lambda function is) to compute the power of each element in the list of numbers. Note: ** or pow() doesn't take type 'list', how to solve this?"
   ]
  },
  {
   "cell_type": "code",
   "execution_count": null,
   "metadata": {},
   "outputs": [],
   "source": [
    "# Answer here:\n",
    "import numpy as np\n",
    "\n",
    "\n",
    "nums = [1, 2, 3, 4, 5, 6, 7, 8, 9, 10]\n",
    "my_func = ???\n",
    "\n",
    "print(my_func(nums))"
   ]
  },
  {
   "cell_type": "markdown",
   "metadata": {},
   "source": [
    "### Question 2: Create a Python function and use a list comprehension to take the power of each element of the list of numbers."
   ]
  },
  {
   "cell_type": "code",
   "execution_count": null,
   "metadata": {},
   "outputs": [],
   "source": [
    "# Answer here:\n",
    "import numpy as np\n",
    "\n",
    "\n",
    "nums = [1, 2, 3, 4, 5, 6, 7, 8, 9, 10]\n",
    "def my_power(my_list):\n",
    "    # code here\n",
    "    return ???\n",
    "\n",
    "print(my_power(nums))"
   ]
  },
  {
   "cell_type": "markdown",
   "metadata": {},
   "source": [
    "### Question 3.a: Return the elements of the 2nd row of the numpy array:"
   ]
  },
  {
   "cell_type": "code",
   "execution_count": null,
   "metadata": {},
   "outputs": [],
   "source": [
    "# Answer here:\n",
    "import numpy as np\n",
    "\n",
    "\n",
    "array = np.array([[11 ,22, 33], [44, 55, 66], [77, 88, 99]])\n",
    "print(array[???])"
   ]
  },
  {
   "cell_type": "markdown",
   "metadata": {},
   "source": [
    "### Question 3.b: Horizontally stack the two arrays (size 2x3) together such that the resulting array has size (2, 6)."
   ]
  },
  {
   "cell_type": "code",
   "execution_count": null,
   "metadata": {},
   "outputs": [],
   "source": [
    "# Answer here:\n",
    "import numpy as np\n",
    "\n",
    "\n",
    "array_1 = np.array([[5, 6, 9], [21, 18, 27]])\n",
    "array_2 = np.array([[15, 33, 24], [4, 7, 1]])\n",
    "\n",
    "hor_stack_array = ???\n",
    "print(hor_stack_array.shape)"
   ]
  },
  {
   "cell_type": "markdown",
   "metadata": {},
   "source": [
    "### Question 3.c: Vertically stack the two arrays (size 2x3) together such that the resulting array has size (4, 3)."
   ]
  },
  {
   "cell_type": "code",
   "execution_count": null,
   "metadata": {},
   "outputs": [],
   "source": [
    "# Answer here:\n",
    "import numpy as np\n",
    "\n",
    "\n",
    "array_1 = np.array([[5, 6, 9], [21, 18, 27]])\n",
    "array_2 = np.array([[15, 33, 24], [4, 7, 1]])\n",
    "\n",
    "ver_stack_array = ???\n",
    "print(ver_stack_array.shape)"
   ]
  },
  {
   "cell_type": "markdown",
   "metadata": {},
   "source": [
    "### Question 3.d: Use a built-in numpy method that finds the common elements between two 1D numpy arrays (i.e., ndarray.shape = (N,) where N is the size of the array)."
   ]
  },
  {
   "cell_type": "code",
   "execution_count": null,
   "metadata": {},
   "outputs": [],
   "source": [
    "# Answer here:\n",
    "import numpy as np\n",
    "\n",
    "\n",
    "array_1 = np.array([1, 2, 3, 2, 3, 4, 3, 4, 5, 6])\n",
    "array_2 = np.array([7, 2, 10, 2, 7, 4, 9, 4, 9, 8])\n",
    "\n",
    "common_elements = ???\n",
    "print(common_elements)"
   ]
  },
  {
   "cell_type": "markdown",
   "metadata": {},
   "source": [
    "### Question 3.e: Find all the elements in the numpy array that are positive. Return both the values and the indices."
   ]
  },
  {
   "cell_type": "code",
   "execution_count": null,
   "metadata": {},
   "outputs": [],
   "source": [
    "# Answer here:\n",
    "import numpy as np\n",
    "\n",
    "\n",
    "rand_int = np.random.randint(low=-25, high=25, size=(50,))\n",
    "values = ???\n",
    "indices = ???\n",
    "\n",
    "print(values)\n",
    "print(indices)"
   ]
  },
  {
   "cell_type": "markdown",
   "metadata": {},
   "source": [
    "### Question 4: Write a Python function with input argument a list and return only the even numbers in the list."
   ]
  },
  {
   "cell_type": "code",
   "execution_count": null,
   "metadata": {},
   "outputs": [],
   "source": [
    "nums = [1, 2, 3, 4, 5, 6, 7, 8, 9, 10]\n",
    "# Answer here:\n",
    "\n",
    "def even_numbers(my_list):\n",
    "    # code here\n",
    "    return ???\n",
    "\n",
    "print(even_numbers(nums))"
   ]
  },
  {
   "cell_type": "markdown",
   "metadata": {},
   "source": [
    "### Question 5: Write a Python function that takes as an input the radius and origin of a circle and a point in 2D and computes if the point is inside or outside the circle. "
   ]
  },
  {
   "cell_type": "code",
   "execution_count": null,
   "metadata": {},
   "outputs": [],
   "source": [
    "origin_circle = np.array([0.5, 0.25])\n",
    "radius = 2.5\n",
    "point_2D = np.array([0.75, 1])\n",
    "\n",
    "# Answer here:\n",
    "\n",
    "def point_in_circle(r, origin, point):\n",
    "    # code here\n",
    "    return ???\n",
    "\n",
    "if point_in_circle:\n",
    "    print('The point ', point_2D, ' is inside the circle')\n",
    "else:\n",
    "    print('The point ', point_2D, ' is outside the circle')"
   ]
  },
  {
   "cell_type": "markdown",
   "metadata": {},
   "source": [
    "### Question 6: Visualize the circle and the point using the matplotlib module (or any other plotting module you prefer). Make sure the title of the plot is changing based on if the point is in or outside of the circle (dynamically)."
   ]
  },
  {
   "cell_type": "code",
   "execution_count": null,
   "metadata": {},
   "outputs": [],
   "source": [
    "# Answer here:"
   ]
  }
 ],
 "metadata": {
  "kernelspec": {
   "display_name": "Python 3",
   "language": "python",
   "name": "python3"
  },
  "language_info": {
   "codemirror_mode": {
    "name": "ipython",
    "version": 3
   },
   "file_extension": ".py",
   "mimetype": "text/x-python",
   "name": "python",
   "nbconvert_exporter": "python",
   "pygments_lexer": "ipython3",
   "version": "3.7.6"
  }
 },
 "nbformat": 4,
 "nbformat_minor": 4
}
